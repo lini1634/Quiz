{
  "nbformat": 4,
  "nbformat_minor": 0,
  "metadata": {
    "colab": {
      "name": "Copy of 20190924_Quiz.ipynb",
      "provenance": [],
      "collapsed_sections": []
    },
    "kernelspec": {
      "name": "python3",
      "display_name": "Python 3"
    },
    "accelerator": "GPU"
  },
  "cells": [
    {
      "cell_type": "markdown",
      "metadata": {
        "id": "yNRWFey5yg4l",
        "colab_type": "text"
      },
      "source": [
        "# Kmeans Clustering QUIZ\n",
        "\n",
        "### 퀴즈 \n",
        "- 12:05~13:05 (1시간)\n",
        "- 접근 가능한 곳\n",
        "  - https://scikit-learn.org\n",
        "  - https://docs.scipy.org/doc/numpy/reference/\n",
        "- 100점만점 (가산점 20점)\n",
        "  - 가산점은 앞으로 진행될 퀴즈에서 감점 사항을 보상받는 구조\n",
        "\n",
        "### 퀴즈의 목적\n",
        "- Kmeans_Lloyd 와 Kmeans++ 결과를 통해 Kmeans 초기화의 중요성을 확인한다.\n",
        "\n",
        "### 사용데이터\n",
        "- sklearn digits 데이터 셋 (K=10)\n",
        "\n",
        "### 구현 함수\n",
        "- Kmeans_Lloyd (40점)\n",
        "  - Random 초기화를 이용하여 kmeans를 구현한다.\n",
        "  - 도저히 직접 구현하기 힘들어 라이브러리 이용시 5점 인정 \n",
        "- Kmeans_Plus (20점)\n",
        "  - Kmeans++ 방법으로 초기화한다.\n",
        "  - sklearn의 kmeans를 wrapping 해도 좋다.\n",
        "  - 라이브러리 이용 없이 직접구현시 가산점 있음 (20점)\n",
        "\n",
        "### 실험 결과\n",
        "- 두 알고리즘의 Center(K=10) 를 시각화한다.(10점)\n",
        "- 두 알고리즘의 Accuracy를 측정한다.(10점)\n",
        "- 두 알고리즘의 Confusion Matrix 를 보여준다.(10점)\n",
        "- 실험의 결론을 도출하여 간략히 작성 & Accuracy가 상식적인 범위 내(70%이상)로 출력 (10점)\n",
        "\n",
        "### 제출\n",
        "- 파일 => .ipynb 다운로드 => 이메일 보내기\n",
        "- ykchoi@sejong.ac.kr\n"
      ]
    },
    {
      "cell_type": "code",
      "metadata": {
        "id": "2eOs28yIycyl",
        "colab_type": "code",
        "colab": {}
      },
      "source": [
        "### ===============================================\n",
        "### 추가적으로 필요한 패키지는 이쪽에 정의하세요\n",
        "### ===============================================\n",
        "import sklearn\n",
        "import numpy as np\n",
        "from sklearn.metrics import pairwise_distances_argmin\n",
        "import matplotlib.pyplot as plt\n",
        "from sklearn.cluster import KMeans\n",
        "from sklearn.metrics import confusion_matrix"
      ],
      "execution_count": 0,
      "outputs": []
    },
    {
      "cell_type": "markdown",
      "metadata": {
        "id": "fefy_S6C25nt",
        "colab_type": "text"
      },
      "source": [
        "## 데이터 로더"
      ]
    },
    {
      "cell_type": "code",
      "metadata": {
        "id": "-4goKhS6216v",
        "colab_type": "code",
        "colab": {
          "base_uri": "https://localhost:8080/",
          "height": 35
        },
        "outputId": "a2d1df66-0223-4b02-8b59-69180236952f"
      },
      "source": [
        "# 수정 필요 없음, 그러나 필요시 수정 가능\n",
        "\n",
        "from sklearn.datasets import load_digits\n",
        "digits = load_digits()\n",
        "X = digits.data\n",
        "Y = digits.target\n",
        "\n",
        "\n",
        "digits.data.shape"
      ],
      "execution_count": 2,
      "outputs": [
        {
          "output_type": "execute_result",
          "data": {
            "text/plain": [
              "(1797, 64)"
            ]
          },
          "metadata": {
            "tags": []
          },
          "execution_count": 2
        }
      ]
    },
    {
      "cell_type": "markdown",
      "metadata": {
        "id": "ctcyIQwp2-Mu",
        "colab_type": "text"
      },
      "source": [
        "## Kmeans 알고리즘 작성\n",
        "- Kmeans_Lloyd (40점)\n",
        "- Kmeans_Plus (20점)"
      ]
    },
    {
      "cell_type": "code",
      "metadata": {
        "id": "UTrDkW0y27we",
        "colab_type": "code",
        "colab": {}
      },
      "source": [
        "def kmeans_Lloyd(X, n_clusters, rseed=2):\n",
        "  \n",
        "    rng=np.random.RandomState(rseed)\n",
        "    i=rng.permutation(X.shape[0])[:n_clusters]\n",
        "    centers=X[i]\n",
        "    \n",
        "    while True:\n",
        "      labels=pairwise_distances_argmin(X,centers)\n",
        "      \n",
        "      new_centers=np.array([X[labels==i].mean(0) for i in range(n_clusters)])\n",
        "      \n",
        "      if np.all(centers== new_centers):\n",
        "        break\n",
        "      centers=new_centers\n",
        "    \n",
        "    return centers, labels\n",
        "    \n",
        "def kmeans_plus(X,n_cluster):\n",
        "    \n",
        "    kmeans=KMeans(n_clusters=n_cluster,init='k-means++',random_state=0).fit(X)\n",
        "    label=kmeans.labels_\n",
        "    centers=kmeans.cluster_centers_\n",
        "    \n",
        "    return centers, labels\n",
        "\n",
        "    \n",
        "    \n",
        "# 알고리즘이 정상적으로 작성되었다면 수정할 필요 없음\n",
        "predict_centers_Lloyd, predict_labels_Lloyd = kmeans_Lloyd(X, 10)\n",
        "predict_centers_Plus, predict_labels_Plus = kmeans_plus(X, 10)"
      ],
      "execution_count": 0,
      "outputs": []
    },
    {
      "cell_type": "code",
      "metadata": {
        "id": "tUn1NII5VUyJ",
        "colab_type": "code",
        "colab": {
          "base_uri": "https://localhost:8080/",
          "height": 35
        },
        "outputId": "d2cbfcc1-3a5a-45b6-ed40-64a5f84557d7"
      },
      "source": [
        "predict_centers_Lloyd.shape\n",
        "\n"
      ],
      "execution_count": 21,
      "outputs": [
        {
          "output_type": "execute_result",
          "data": {
            "text/plain": [
              "(10, 64)"
            ]
          },
          "metadata": {
            "tags": []
          },
          "execution_count": 21
        }
      ]
    },
    {
      "cell_type": "markdown",
      "metadata": {
        "id": "RkVH3Cbu3nRm",
        "colab_type": "text"
      },
      "source": [
        "## Center(K=10) 를 시각화한다.(10점)\n",
        "- 두 알고리즘 모두"
      ]
    },
    {
      "cell_type": "code",
      "metadata": {
        "id": "vLoqCpso3uRP",
        "colab_type": "code",
        "colab": {
          "base_uri": "https://localhost:8080/",
          "height": 201
        },
        "outputId": "1fdbb4bc-756e-4c0b-eeb5-43b750dab48e"
      },
      "source": [
        "### ??? 를 작성한다.\n",
        "\n",
        "predict_centers_ = predict_centers_Lloyd.reshape(10,8,8)\n",
        "\n",
        "fig, ax = plt.subplots(2, 5, figsize=(8, 3))\n",
        "\n",
        "for axi, center in zip(ax.flat, predict_centers_):\n",
        "    axi.set(xticks=[], yticks=[])\n",
        "    axi.imshow(center, interpolation='nearest', cmap=plt.cm.binary)"
      ],
      "execution_count": 22,
      "outputs": [
        {
          "output_type": "display_data",
          "data": {
            "image/png": "[encoded data removed]",
            "text/plain": [
              "<Figure size 576x216 with 10 Axes>"
            ]
          },
          "metadata": {
            "tags": []
          }
        }
      ]
    },
    {
      "cell_type": "code",
      "metadata": {
        "id": "KDBQ6vc4a4wn",
        "colab_type": "code",
        "colab": {
          "base_uri": "https://localhost:8080/",
          "height": 201
        },
        "outputId": "222953ed-98bd-4aca-9185-3700f9204846"
      },
      "source": [
        "predict_centers=predict_centers_Plus.reshape(10,8,8)\n",
        "\n",
        "fig, ax = plt.subplots(2, 5, figsize=(8, 3))\n",
        "\n",
        "for axi, center in zip(ax.flat, predict_centers_):\n",
        "    axi.set(xticks=[], yticks=[])\n",
        "    axi.imshow(center, interpolation='nearest', cmap=plt.cm.binary)"
      ],
      "execution_count": 23,
      "outputs": [
        {
          "output_type": "display_data",
          "data": {
            "image/png": "[encoded data removed]",
            "text/plain": [
              "<Figure size 576x216 with 10 Axes>"
            ]
          },
          "metadata": {
            "tags": []
          }
        }
      ]
    },
    {
      "cell_type": "markdown",
      "metadata": {
        "id": "JvqiBizO4CX_",
        "colab_type": "text"
      },
      "source": [
        "## Accuracy를 측정한다.(10점)\n",
        "- 두 알고리즘 모두"
      ]
    },
    {
      "cell_type": "code",
      "metadata": {
        "id": "XTKTrXWW4C8-",
        "colab_type": "code",
        "colab": {
          "base_uri": "https://localhost:8080/",
          "height": 35
        },
        "outputId": "e28a7fe6-615b-45eb-8bbe-a8e82db2dc01"
      },
      "source": [
        "## ========================================================================\n",
        "## kmeans 군집 결과는 실제 레이블에 매칭되지 않는다.\n",
        "## 학습 된 각 클러스터 레이블을 실제 레이블과 일치시키는 과정이 필요하다.\n",
        "## ========================================================================\n",
        "\n",
        "labels=predict_labels_Lloyd\n",
        "\n",
        "## 아래의 코드는 수정할 필요가 없다\n",
        "from sklearn.metrics import accuracy_score\n",
        "accuracy_score(Y,labels)"
      ],
      "execution_count": 19,
      "outputs": [
        {
          "output_type": "execute_result",
          "data": {
            "text/plain": [
              "0.014468558708959377"
            ]
          },
          "metadata": {
            "tags": []
          },
          "execution_count": 19
        }
      ]
    },
    {
      "cell_type": "markdown",
      "metadata": {
        "id": "9hO5Xuz84kPP",
        "colab_type": "text"
      },
      "source": [
        "## Confusion Matrix 를 보여준다.(10점)\n",
        "- 두 알고리즘 모두"
      ]
    },
    {
      "cell_type": "code",
      "metadata": {
        "id": "__7XmR-84kpu",
        "colab_type": "code",
        "colab": {
          "base_uri": "https://localhost:8080/",
          "height": 197
        },
        "outputId": "1d661b1a-cc1a-4a2e-b7c3-93c835d20520"
      },
      "source": [
        "labels=predict_labels_Lloyd\n",
        "confusion_matrix(Y,labels)"
      ],
      "execution_count": 7,
      "outputs": [
        {
          "output_type": "execute_result",
          "data": {
            "text/plain": [
              "array([[  1, 177,   0,   0,   0,   0,   0,   0,   0,   0],\n",
              "       [  0,   0,   0,  99,   1,   0,  55,   0,  25,   2],\n",
              "       [  0,   1,  12,   8,   0,   3,   2,   0, 151,   0],\n",
              "       [  0,   0, 163,   7,   3,   6,   0,   3,   1,   0],\n",
              "       [166,   0,   0,   2,   2,   8,   3,   0,   0,   0],\n",
              "       [  1,   0,   5,   0,  72,   0,   0, 103,   0,   1],\n",
              "       [  0,   1,   0,   3,   0,   0,   0,   0,   0, 177],\n",
              "       [  0,   0,   0,   2,   0, 177,   0,   0,   0,   0],\n",
              "       [  0,   1,  48,  94,  11,   7,   6,   1,   4,   2],\n",
              "       [  0,   0, 144,   1,   6,   8,  20,   1,   0,   0]])"
            ]
          },
          "metadata": {
            "tags": []
          },
          "execution_count": 7
        }
      ]
    },
    {
      "cell_type": "code",
      "metadata": {
        "id": "sVRmG9EUbHQF",
        "colab_type": "code",
        "colab": {
          "base_uri": "https://localhost:8080/",
          "height": 197
        },
        "outputId": "01b18118-50a3-4dda-9504-b42edf68b863"
      },
      "source": [
        "labels=predict_labels_Plus\n",
        "confusion_matrix(Y,labels)"
      ],
      "execution_count": 18,
      "outputs": [
        {
          "output_type": "execute_result",
          "data": {
            "text/plain": [
              "array([[  1, 177,   0,   0,   0,   0,   0,   0,   0,   0],\n",
              "       [  0,   0,   0,  99,   1,   0,  55,   0,  25,   2],\n",
              "       [  0,   1,  12,   8,   0,   3,   2,   0, 151,   0],\n",
              "       [  0,   0, 163,   7,   3,   6,   0,   3,   1,   0],\n",
              "       [166,   0,   0,   2,   2,   8,   3,   0,   0,   0],\n",
              "       [  1,   0,   5,   0,  72,   0,   0, 103,   0,   1],\n",
              "       [  0,   1,   0,   3,   0,   0,   0,   0,   0, 177],\n",
              "       [  0,   0,   0,   2,   0, 177,   0,   0,   0,   0],\n",
              "       [  0,   1,  48,  94,  11,   7,   6,   1,   4,   2],\n",
              "       [  0,   0, 144,   1,   6,   8,  20,   1,   0,   0]])"
            ]
          },
          "metadata": {
            "tags": []
          },
          "execution_count": 18
        }
      ]
    },
    {
      "cell_type": "markdown",
      "metadata": {
        "id": "pe1U7D7pY8Ie",
        "colab_type": "text"
      },
      "source": [
        "kmeans_Lloyd 알고리즘과 kmeans_Plus 알고리즘의\n",
        "각 digit이 0부터 9까지의 label에 클러스터링 되어 이미지로 나타났습니다. \n"
      ]
    }
  ]
}