{
  "nbformat": 4,
  "nbformat_minor": 0,
  "metadata": {
    "colab": {
      "name": "20190924_Quiz.ipynb",
      "provenance": [],
      "collapsed_sections": []
    },
    "kernelspec": {
      "name": "python3",
      "display_name": "Python 3"
    }
  },
  "cells": [
    {
      "cell_type": "markdown",
      "metadata": {
        "id": "yNRWFey5yg4l",
        "colab_type": "text"
      },
      "source": [
        "# Kmeans Clustering QUIZ\n",
        "\n",
        "### 퀴즈 \n",
        "- 12:05~13:05 (1시간)\n",
        "- 접근 가능한 곳\n",
        "  - https://scikit-learn.org\n",
        "  - https://docs.scipy.org/doc/numpy/reference/\n",
        "- 100점만점 (가산점 20점)\n",
        "  - 가산점은 앞으로 진행될 퀴즈에서 감점 사항을 보상받는 구조\n",
        "\n",
        "### 퀴즈의 목적\n",
        "- Kmeans_Lloyd 와 Kmeans++ 결과를 통해 Kmeans 초기화의 중요성을 확인한다.\n",
        "\n",
        "### 사용데이터\n",
        "- sklearn digits 데이터 셋 (K=10)\n",
        "\n",
        "### 구현 함수\n",
        "- Kmeans_Lloyd (40점)\n",
        "  - Random 초기화를 이용하여 kmeans를 구현한다.\n",
        "  - 도저히 직접 구현하기 힘들어 라이브러리 이용시 5점 인정 \n",
        "- Kmeans_Plus (20점)\n",
        "  - Kmeans++ 방법으로 초기화한다.\n",
        "  - sklearn의 kmeans를 wrapping 해도 좋다.\n",
        "  - 라이브러리 이용 없이 직접구현시 가산점 있음 (20점)\n",
        "\n",
        "### 실험 결과\n",
        "- 두 알고리즘의 Center(K=10) 를 시각화한다.(10점)\n",
        "- 두 알고리즘의 Accuracy를 측정한다.(10점)\n",
        "- 두 알고리즘의 Confusion Matrix 를 보여준다.(10점)\n",
        "- 실험의 결론을 도출하여 간략히 작성 & Accuracy가 상식적인 범위 내(70%이상)로 출력 (10점)\n",
        "\n",
        "### 제출\n",
        "- 파일 => .ipynb 다운로드 => 이메일 보내기\n",
        "- ykchoi@sejong.ac.kr\n"
      ]
    },
    {
      "cell_type": "code",
      "metadata": {
        "id": "2eOs28yIycyl",
        "colab_type": "code",
        "colab": {}
      },
      "source": [
        "### ===============================================\n",
        "### 추가적으로 필요한 패키지는 이쪽에 정의하세요\n",
        "### ==============================================="
      ],
      "execution_count": 0,
      "outputs": []
    },
    {
      "cell_type": "markdown",
      "metadata": {
        "id": "fefy_S6C25nt",
        "colab_type": "text"
      },
      "source": [
        "## 데이터 로더"
      ]
    },
    {
      "cell_type": "code",
      "metadata": {
        "id": "-4goKhS6216v",
        "colab_type": "code",
        "colab": {}
      },
      "source": [
        "# 수정 필요 없음, 그러나 필요시 수정 가능\n",
        "\n",
        "from sklearn.datasets import load_digits\n",
        "digits = load_digits()\n",
        "X = digits.data\n",
        "Y = digits.target\n",
        "\n",
        "\n",
        "digits.data.shape"
      ],
      "execution_count": 0,
      "outputs": []
    },
    {
      "cell_type": "markdown",
      "metadata": {
        "id": "ctcyIQwp2-Mu",
        "colab_type": "text"
      },
      "source": [
        "## Kmeans 알고리즘 작성\n",
        "- Kmeans_Lloyd (40점)\n",
        "- Kmeans_Plus (20점)"
      ]
    },
    {
      "cell_type": "code",
      "metadata": {
        "id": "UTrDkW0y27we",
        "colab_type": "code",
        "colab": {}
      },
      "source": [
        "def kmeans_Lloyd(X, n_clusters, rseed=2):\n",
        "    \n",
        "    return centers, labels\n",
        "    \n",
        "def kmeans_plus(X,n_cluster):\n",
        "    \n",
        "    return centers, labels\n",
        "\n",
        "    \n",
        "    \n",
        "# 알고리즘이 정상적으로 작성되었다면 수정할 필요 없음\n",
        "predict_centers_Lloyd, predict_labels_Lloyd = kmeans_Lloyd(X, 10)\n",
        "predict_centers_Plus, predict_labels_Plus = kmeans_Lloyd(X, 10)"
      ],
      "execution_count": 0,
      "outputs": []
    },
    {
      "cell_type": "markdown",
      "metadata": {
        "id": "RkVH3Cbu3nRm",
        "colab_type": "text"
      },
      "source": [
        "## Center(K=10) 를 시각화한다.(10점)\n",
        "- 두 알고리즘 모두"
      ]
    },
    {
      "cell_type": "code",
      "metadata": {
        "id": "vLoqCpso3uRP",
        "colab_type": "code",
        "colab": {}
      },
      "source": [
        "### ??? 를 작성한다.\n",
        "\n",
        "predict_centers_ = ????\n",
        "fig, ax = plt.subplots(2, 5, figsize=(8, 3))\n",
        "\n",
        "for axi, center in zip(ax.flat, predict_centers_):\n",
        "    axi.set(xticks=[], yticks=[])\n",
        "    axi.imshow(center, interpolation='nearest', cmap=plt.cm.binary)"
      ],
      "execution_count": 0,
      "outputs": []
    },
    {
      "cell_type": "markdown",
      "metadata": {
        "id": "JvqiBizO4CX_",
        "colab_type": "text"
      },
      "source": [
        "## Accuracy를 측정한다.(10점)\n",
        "- 두 알고리즘 모두"
      ]
    },
    {
      "cell_type": "code",
      "metadata": {
        "id": "XTKTrXWW4C8-",
        "colab_type": "code",
        "colab": {}
      },
      "source": [
        "## ========================================================================\n",
        "## kmeans 군집 결과는 실제 레이블에 매칭되지 않는다.\n",
        "## 학습 된 각 클러스터 레이블을 실제 레이블과 일치시키는 과정이 필요하다.\n",
        "## ========================================================================\n",
        "\n",
        "\n",
        "\n",
        "\n",
        "\n",
        "## 아래의 코드는 수정할 필요가 없다\n",
        "from sklearn.metrics import accuracy_score\n",
        "accuracy_score(Y,labels)"
      ],
      "execution_count": 0,
      "outputs": []
    },
    {
      "cell_type": "markdown",
      "metadata": {
        "id": "9hO5Xuz84kPP",
        "colab_type": "text"
      },
      "source": [
        "## Confusion Matrix 를 보여준다.(10점)\n",
        "- 두 알고리즘 모두"
      ]
    },
    {
      "cell_type": "code",
      "metadata": {
        "id": "__7XmR-84kpu",
        "colab_type": "code",
        "colab": {}
      },
      "source": [
        ""
      ],
      "execution_count": 0,
      "outputs": []
    }
  ]
}