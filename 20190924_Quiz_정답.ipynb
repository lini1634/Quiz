{
  "nbformat": 4,
  "nbformat_minor": 0,
  "metadata": {
    "colab": {
      "name": "20190924_Quiz_정답.ipynb",
      "provenance": [],
      "collapsed_sections": []
    },
    "kernelspec": {
      "name": "python3",
      "display_name": "Python 3"
    }
  },
  "cells": [
    {
      "cell_type": "markdown",
      "metadata": {
        "id": "yNRWFey5yg4l",
        "colab_type": "text"
      },
      "source": [
        "# Kmeans Clustering QUIZ\n",
        "\n",
        "### 퀴즈 \n",
        "- 12:05~12:55 (1시간)\n",
        "- 접근 가능한 곳\n",
        "  - https://scikit-learn.org\n",
        "  - https://docs.scipy.org/doc/numpy/reference/\n",
        "- 100점만점 (가산점 20점)\n",
        "  - 가산점은 앞으로 진행될 퀴즈에서 감점 사항을 보상받는 구조\n",
        "\n",
        "### 퀴즈의 목적\n",
        "- Kmeans_Lloyd 와 Kmeans++ 결과를 통해 Kmeans 초기화의 중요성을 확인한다.\n",
        "\n",
        "### 사용데이터\n",
        "- sklearn digits 데이터 셋 (K=10)\n",
        "\n",
        "### 구현 함수\n",
        "- Kmeans_Lloyd (40점)\n",
        "  - Random 초기화를 이용하여 kmeans를 직접 구현한다.\n",
        "  - 도저히 직접 구현하기 힘들어 라이브러리 이용시 5점 인정 \n",
        "- Kmeans_Plus (20점)\n",
        "  - Kmeans++ 방법으로 초기화한다.\n",
        "  - sklearn의 kmeans를 wrapping 해도 좋다.\n",
        "  - 라이브러리 이용 없이 직접구현시 가산점 있음 (20점)\n",
        "\n",
        "### 실험 결과\n",
        "- Center(K=10) 를 시각화한다.(10점)\n",
        "- Accuracy를 측정한다.(10점)\n",
        "- Confusion Matrix 를 보여준다.(10점)\n",
        "\n",
        "- Accuracy가 상식적인 범위 내(70%이상)로 출력되고 위의 3가지 실험을 모두 완료할 경우 (10점)\n",
        "\n",
        "### 제출\n",
        "- 파일 => .ipynb 다운로드 => 이메일 보내기\n",
        "- ykchoi@sejong.ac.kr\n"
      ]
    },
    {
      "cell_type": "code",
      "metadata": {
        "id": "2eOs28yIycyl",
        "colab_type": "code",
        "colab": {}
      },
      "source": [
        "### ===============================================\n",
        "### 추가적으로 필요한 패키지는 이쪽에 정의하세요\n",
        "### ===============================================\n",
        "\n",
        "%matplotlib inline\n",
        "import matplotlib.pyplot as plt\n",
        "import seaborn as sns; sns.set()  # for plot styling\n",
        "import numpy as np\n",
        "\n",
        "\n"
      ],
      "execution_count": 0,
      "outputs": []
    },
    {
      "cell_type": "markdown",
      "metadata": {
        "id": "fefy_S6C25nt",
        "colab_type": "text"
      },
      "source": [
        "## 데이터 로더"
      ]
    },
    {
      "cell_type": "code",
      "metadata": {
        "id": "-4goKhS6216v",
        "colab_type": "code",
        "outputId": "f4760a97-f3f9-4cc9-90b6-df91125de414",
        "colab": {
          "base_uri": "https://localhost:8080/",
          "height": 35
        }
      },
      "source": [
        "# 수정 필요 없음, 그러나 필요시 수정 가능\n",
        "\n",
        "from sklearn.datasets import load_digits\n",
        "digits = load_digits()\n",
        "X = digits.data\n",
        "Y = digits.target\n",
        "\n",
        "\n",
        "digits.data.shape"
      ],
      "execution_count": 0,
      "outputs": [
        {
          "output_type": "execute_result",
          "data": {
            "text/plain": [
              "(1797, 64)"
            ]
          },
          "metadata": {
            "tags": []
          },
          "execution_count": 2
        }
      ]
    },
    {
      "cell_type": "markdown",
      "metadata": {
        "id": "ctcyIQwp2-Mu",
        "colab_type": "text"
      },
      "source": [
        "## Kmeans 알고리즘 작성\n",
        "- Kmeans_Lloyd (40점)\n",
        "- Kmeans_Plus (20점)"
      ]
    },
    {
      "cell_type": "code",
      "metadata": {
        "id": "UTrDkW0y27we",
        "colab_type": "code",
        "colab": {}
      },
      "source": [
        "from sklearn.metrics import pairwise_distances_argmin\n",
        "\n",
        "def kmeans_Lloyd(X, n_clusters, rseed=2):\n",
        "    # 1. Randomly choose clusters\n",
        "    rng = np.random.RandomState(rseed)\n",
        "    i = rng.permutation(X.shape[0])[:n_clusters]\n",
        "    centers = X[i]\n",
        "    \n",
        "    while True:\n",
        "        # 2a. Assign labels based on closest center\n",
        "        labels = pairwise_distances_argmin(X, centers)\n",
        "        \n",
        "        # 2b. Find new centers from means of points\n",
        "        new_centers = np.array([X[labels == i].mean(0)\n",
        "                                for i in range(n_clusters)])\n",
        "        \n",
        "        # 2c. Check for convergence\n",
        "        if np.all(centers == new_centers):\n",
        "            break\n",
        "        centers = new_centers\n",
        "    \n",
        "    return centers, labels\n",
        "\n",
        "\n",
        "from sklearn.cluster import KMeans\n",
        "def kmeans_plus(X,n_cluster):\n",
        "\n",
        "    kmeans = KMeans(n_cluster)\n",
        "    labels = kmeans.fit_predict(X)\n",
        "    centers = kmeans.cluster_centers_\n",
        "    return centers, labels\n",
        "\n",
        "\n",
        "    \n",
        "  \n",
        "    \n",
        "# 알고리즘이 정상적으로 작성되었다면 수정할 필요 없음\n",
        "predict_centers_Lloyd, predict_labels_Lloyd = kmeans_Lloyd(X, 10)\n",
        "predict_centers_Plus, predict_labels_Plus = kmeans_plus(X, 10)"
      ],
      "execution_count": 0,
      "outputs": []
    },
    {
      "cell_type": "markdown",
      "metadata": {
        "id": "RkVH3Cbu3nRm",
        "colab_type": "text"
      },
      "source": [
        "## Center(K=10) 를 시각화한다.(10점)\n",
        "- 두 알고리즘 모두"
      ]
    },
    {
      "cell_type": "code",
      "metadata": {
        "id": "vLoqCpso3uRP",
        "colab_type": "code",
        "outputId": "8a6e1028-01a9-4ea1-bece-9ca8c33edca4",
        "colab": {
          "base_uri": "https://localhost:8080/",
          "height": 385
        }
      },
      "source": [
        "\n",
        "\n",
        "predict_centers_ = predict_centers_Lloyd.reshape(10,8,8)\n",
        "fig, ax = plt.subplots(2, 5, figsize=(8, 3))\n",
        "\n",
        "for axi, center in zip(ax.flat, predict_centers_):\n",
        "    axi.set(xticks=[], yticks=[])\n",
        "    axi.imshow(center, interpolation='nearest', cmap=plt.cm.binary)\n",
        "\n",
        "    \n",
        "predict_centers_ = predict_centers_Plus.reshape(10,8,8)\n",
        "fig, ax = plt.subplots(2, 5, figsize=(8, 3))\n",
        "\n",
        "for axi, center in zip(ax.flat, predict_centers_):\n",
        "    axi.set(xticks=[], yticks=[])\n",
        "    axi.imshow(center, interpolation='nearest', cmap=plt.cm.binary)\n"
      ],
      "execution_count": 0,
      "outputs": [
        {
          "output_type": "display_data",
          "data": {
            "image/png": "[encoded data removed]",
            "text/plain": [
              "<Figure size 576x216 with 10 Axes>"
            ]
          },
          "metadata": {
            "tags": []
          }
        },
        {
          "output_type": "display_data",
          "data": {
            "image/png": "[encoded data removed]",
            "text/plain": [
              "<Figure size 576x216 with 10 Axes>"
            ]
          },
          "metadata": {
            "tags": []
          }
        }
      ]
    },
    {
      "cell_type": "markdown",
      "metadata": {
        "id": "JvqiBizO4CX_",
        "colab_type": "text"
      },
      "source": [
        "## Accuracy를 측정한다.(10점)\n",
        "- 두 알고리즘 모두"
      ]
    },
    {
      "cell_type": "code",
      "metadata": {
        "id": "XTKTrXWW4C8-",
        "colab_type": "code",
        "outputId": "c7ddd997-282d-4723-9e25-7d0453460d40",
        "colab": {
          "base_uri": "https://localhost:8080/",
          "height": 53
        }
      },
      "source": [
        "## ========================================================================\n",
        "## kmeans 군집 결과는 실제 레이블에 매칭되지 않는다.\n",
        "## 학습 된 각 클러스터 레이블을 실제 레이블과 일치시키는 과정이 필요하다.\n",
        "## ========================================================================\n",
        "from scipy.stats import mode\n",
        "\n",
        "labels_Lloyd = np.zeros_like(predict_labels_Lloyd)\n",
        "for i in range(10):\n",
        "    mask = (predict_labels_Lloyd == i)\n",
        "    labels_Lloyd[mask] = mode(digits.target[mask])[0]\n",
        "\n",
        "\n",
        "## 아래의 코드는 수정할 필요가 없다\n",
        "from sklearn.metrics import accuracy_score\n",
        "aa = accuracy_score(Y,labels_Lloyd)\n",
        "print(aa)\n",
        "\n",
        "\n",
        "from scipy.stats import mode\n",
        "\n",
        "labels_Plus = np.zeros_like(predict_labels_Plus)\n",
        "for i in range(10):\n",
        "    mask = (predict_labels_Plus == i)\n",
        "    labels_Plus[mask] = mode(digits.target[mask])[0]\n",
        "\n",
        "\n",
        "## 아래의 코드는 수정할 필요가 없다\n",
        "from sklearn.metrics import accuracy_score\n",
        "aa = accuracy_score(Y,labels_Plus)\n",
        "print(aa)"
      ],
      "execution_count": 0,
      "outputs": [
        {
          "output_type": "stream",
          "text": [
            "0.7456872565386756\n",
            "0.7918753478018921\n"
          ],
          "name": "stdout"
        }
      ]
    },
    {
      "cell_type": "markdown",
      "metadata": {
        "id": "9hO5Xuz84kPP",
        "colab_type": "text"
      },
      "source": [
        "## Confusion Matrix 를 보여준다.(10점)\n",
        "- 두 알고리즘 모두"
      ]
    },
    {
      "cell_type": "code",
      "metadata": {
        "id": "__7XmR-84kpu",
        "colab_type": "code",
        "outputId": "e2d94608-c19f-460c-c71e-a89b285f8a46",
        "colab": {
          "base_uri": "https://localhost:8080/",
          "height": 291
        }
      },
      "source": [
        "\n",
        "from sklearn.metrics import confusion_matrix\n",
        "mat = confusion_matrix(Y, labels_Lloyd)\n",
        "sns.heatmap(mat.T, square=True, annot=True, fmt='d', cbar=False,\n",
        "            xticklabels=digits.target_names,\n",
        "            yticklabels=digits.target_names)\n",
        "plt.xlabel('true label')\n",
        "plt.ylabel('predicted label');\n",
        "\n",
        "\n"
      ],
      "execution_count": 0,
      "outputs": [
        {
          "output_type": "display_data",
          "data": {
            "image/png": "[encoded data removed]",
            "text/plain": [
              "<Figure size 432x288 with 1 Axes>"
            ]
          },
          "metadata": {
            "tags": []
          }
        }
      ]
    },
    {
      "cell_type": "code",
      "metadata": {
        "id": "FLF-az-tDutg",
        "colab_type": "code",
        "outputId": "537c6e1e-d0c0-4e45-945e-d28274afcb5a",
        "colab": {
          "base_uri": "https://localhost:8080/",
          "height": 291
        }
      },
      "source": [
        "\n",
        "\n",
        "from sklearn.metrics import confusion_matrix\n",
        "mat = confusion_matrix(Y, labels_Plus)\n",
        "sns.heatmap(mat.T, square=True, annot=True, fmt='d', cbar=False,\n",
        "            xticklabels=digits.target_names,\n",
        "            yticklabels=digits.target_names)\n",
        "plt.xlabel('true label')\n",
        "plt.ylabel('predicted label');"
      ],
      "execution_count": 0,
      "outputs": [
        {
          "output_type": "display_data",
          "data": {
            "image/png": "[encoded data removed]",
            "text/plain": [
              "<Figure size 432x288 with 1 Axes>"
            ]
          },
          "metadata": {
            "tags": []
          }
        }
      ]
    }
  ]
}